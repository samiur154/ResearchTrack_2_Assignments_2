{
 "cells": [
  {
   "cell_type": "markdown",
   "id": "9b66c5c8",
   "metadata": {},
   "source": [
    "# Jupyter_notebook_user_interface- SAMIUR RAHMAN(5066315)"
   ]
  },
  {
   "cell_type": "markdown",
   "id": "923b1586",
   "metadata": {},
   "source": [
    "* This node helps to control and monitors an holomonic robot in gazebo environment.\n",
    "## Description of the user interface\n",
    "* the user interface is created for better understanding and for better visualization using jupyter notebook and the code can be run using the command rt2_assignment1.launch.\n",
    "* Here matplot libraries and ipy widgets are used to make the visualization better.\n",
    "## Features added to user_interface:\n",
    "* start,stop,forward,backward,right_turn,left_turn buttons are created\n",
    "* A map to show the moving robot's position\n",
    "* A histogram plot to show the time to reach a goal by the robot\n",
    "* A bar graph to to visualize the number of reached targets and cancelled targets\n",
    "* jupyros is used for interacting with the ros.\n",
    "* action libraries are used for interacting with ros actions."
   ]
  },
  {
   "cell_type": "code",
   "execution_count": 1,
   "id": "c62db892",
   "metadata": {
    "ExecuteTime": {
     "end_time": "2022-02-13T17:42:15.350998Z",
     "start_time": "2022-02-13T17:42:10.197656Z"
    }
   },
   "outputs": [],
   "source": [
    "%matplotlib widget\n",
    "import numpy as npy\n",
    "import collections\n",
    "import jupyros as jr\n",
    "import rospy\n",
    "import time\n",
    "import actionlib\n",
    "import actionlib.msg\n",
    "import rt2_assignment1.msg\n",
    "from geometry_msgs.msg import Twist\n",
    "from rt2_assignment1.srv import Command\n",
    "from rosgraph_msgs.msg import Clock\n",
    "from nav_msgs.msg import Odometry\n",
    "import matplotlib.pyplot as plot\n",
    "from matplotlib import animation, rc\n",
    "import matplotlib.ticker as ticker\n",
    "from ipywidgets import Button, Layout, ButtonStyle, GridBox, VBox, HBox ,Box ,AppLayout , GridspecLayout\n",
    "import ipywidgets as widgets\n",
    "\n",
    "#Control node initialization\n",
    "rospy.init_node('jupyter_rt2_node')\n",
    "\n",
    "\n",
    "# random behaviour variable\n",
    "global random_moving\n",
    "\n",
    "task_time=0\n",
    "time_updation=[]\n",
    "reached_targets = 0\n",
    "cancelled_targets = 0\n",
    "setting_linear = 1.0\n",
    "setting_angular = 1.0\n"
   ]
  },
  {
   "cell_type": "markdown",
   "id": "ce6e731c",
   "metadata": {},
   "source": [
    "# BUTTONS TO CONTROL\n",
    "* Buttons to control the holomonic robot in the gazebo environment\n",
    "* six buttons are provided in this block to manually control the robot. The buttons are used to define robot;s direction and it is publishing to the topic /cmd_vel.\n",
    "* A start button used to trigger the \"go_to_point\" random movement of the robot and a stop button is provided to set all the robot velocities to zero. The buttons are implement using a service client that send a \"start\"/\"stop\" string to the \"Command\" service.\n",
    "* Also,there are forward,backward,right and left buttons which are used to move the robot in a required direction.\n"
   ]
  },
  {
   "cell_type": "code",
   "execution_count": 2,
   "id": "a5506b44",
   "metadata": {
    "ExecuteTime": {
     "end_time": "2022-02-13T17:42:16.306878Z",
     "start_time": "2022-02-13T17:42:15.365449Z"
    },
    "scrolled": true
   },
   "outputs": [
    {
     "data": {
      "application/vnd.jupyter.widget-view+json": {
       "model_id": "80fa917c82c54348b28332e96c0e9266",
       "version_major": 2,
       "version_minor": 0
      },
      "text/plain": [
       "GridBox(children=(GridBox(children=(Button(description='Start', layout=Layout(grid_area='Start', width='auto')…"
      ]
     },
     "metadata": {},
     "output_type": "display_data"
    }
   ],
   "source": [
    "start  = Button(description='Start',layout=Layout(width='auto', align=\"center\", grid_area='Start'),style=ButtonStyle(button_color='green'))\n",
    "stop  = Button(description='Stop',layout=Layout(width='auto', grid_area='Stop'),style=ButtonStyle(button_color='red'))\n",
    "forward  = Button(description='Forward',layout=Layout(width='auto', align=\"center\", grid_area='W'),style=ButtonStyle(button_color='cyan'))\n",
    "left  = Button(description='Left',layout=Layout(width='auto', grid_area='left'),style=ButtonStyle(button_color='cyan'))\n",
    "right = Button(description='Right',layout=Layout(width='auto', grid_area='right'),style=ButtonStyle(button_color='cyan'))\n",
    "backward = Button(description='Backward',layout=Layout(width='auto', grid_area='backward'),style=ButtonStyle(button_color='cyan'))\n",
    "output = widgets.Output()\n",
    "\n",
    "#Node initialization\n",
    "ui_client = rospy.ServiceProxy('/user_interface', Command)\n",
    "action_service = actionlib.SimpleActionServer(\n",
    "        '/go_to_point', rt2_assignment1.msg.PlanningAction, auto_start=False)\n",
    "action_client = actionlib.SimpleActionClient('/go_to_point', rt2_assignment1.msg.PlanningAction)\n",
    "\n",
    "\n",
    "\n",
    "# Stop the robot and initialize its status\n",
    "ui_client(\"stop\")\n",
    "random_moving = False\n",
    "\n",
    "\n",
    "\n",
    "# funcion o buttons\n",
    "def start_robot(start):\n",
    "    global random_moving,task_time,ui_client\n",
    "    with output:\n",
    "        setting_linear = 1.0\n",
    "        setting_angular = 1.0\n",
    "    ui_client(\"start\")\n",
    "    random_moving=True\n",
    "    task_time=rospy.Time.now()\n",
    "    print('Start is been activated and robot is moving')\n",
    "        \n",
    "\n",
    "def stop_robot(stop):\n",
    "    global random_moving,cancelled_targets\n",
    "    with output:\n",
    "        ui_client(\"stop\")\n",
    "        if random_moving == False:\n",
    "            print(\"I was already stopped\")\n",
    "        random_moving = False \n",
    "        cancelled_targets=cancelled_targets+1\n",
    "        task_time=0\n",
    "        print('Stop is activated and robot will be stopped')\n",
    "        \n",
    "def move_forward(forward):\n",
    "    global random_moving, setting_linear, setting_linear,cancelled_targets\n",
    "    if random_moving == True:\n",
    "        ui_client(\"stop\")\n",
    "        task_time=0\n",
    "        cancelled_targets=cancelled_targets+1\n",
    "    else:   \n",
    "        random_moving = False\n",
    "        msg.linear.x = setting_linear\n",
    "        msg.angular.z = 0.0\n",
    "        pub.publish(msg)\n",
    "        print(\"Robot will go straight after the command\")     \n",
    "\n",
    "def move_backward(backward):\n",
    "    global random_moving, setting_linear, setting_angular,cancelled_targets\n",
    "    if random_moving == True:\n",
    "        ui_client(\"stop\")\n",
    "        task_time=0\n",
    "        cancelled_targets=cancelled_targets+1\n",
    "    else:\n",
    "        random_moving = False\n",
    "        msg.linear.x = -setting_linear\n",
    "        msg.angular.z = setting_angular\n",
    "        setting_linear = msg.linear.x \n",
    "        setting_angular = msg.angular.z \n",
    "        pub.publish(msg)\n",
    "        print(\"Robot will go backward after the command\")\n",
    "        \n",
    "def turn_right(right):\n",
    "    global random_moving, setting_linear, setting_angular,cancelled_targets\n",
    "    if random_moving == True:\n",
    "        ui_client(\"stop\")\n",
    "        cancelled_targets=cancelled_targets+1\n",
    "        task_time=0\n",
    "    else:\n",
    "        random_moving = False\n",
    "        msg.linear.x = setting_linear\n",
    "        msg.angular.z = setting_angular\n",
    "        pub.publish(msg)\n",
    "        print(\"Robot will go right-side after the command\")\n",
    "        \n",
    "def turn_left(left):\n",
    "    global random_moving, setting_linear, setting_angular,cancelled_targets\n",
    "    if random_moving == True:\n",
    "        ui_client(\"stop\")\n",
    "        cancelled_targets=cancelled_targets+1\n",
    "        task_time=0\n",
    "    else:\n",
    "        random_moving = False\n",
    "        msg.linear.x = setting_linear\n",
    "        msg.angular.z = -setting_angular\n",
    "        pub.publish(msg)\n",
    "        print(\"Robot will go left-side after the command\")\n",
    "\n",
    "        \n",
    "\n",
    "# Callback definition\n",
    "start.on_click(start_robot)\n",
    "stop.on_click(stop_robot)\n",
    "forward.on_click(move_forward)\n",
    "backward.on_click(move_backward)\n",
    "right.on_click(turn_right)\n",
    "left.on_click(turn_left)\n",
    "\n",
    "\n",
    "# Buttons display\n",
    "buttons = GridBox(children=[start, stop],layout=Layout(width='30%',grid_template_rows='auto auto',grid_template_columns='50% 50%',grid_template_areas='''\"Start Stop up left right down\"'''))\n",
    "widgets.VBox([buttons, output])\n",
    "\n",
    "buttons1 = VBox(children=[forward, left, right, backward],layout=Layout(width='30%',grid_template_rows='auto auto',grid_template_columns='20% 25%',grid_template_areas='''\" . forward . \"\"left  right \"\".stop .\"'''))\n",
    "widgets.GridBox([buttons,buttons1, output])\n"
   ]
  },
  {
   "cell_type": "markdown",
   "id": "bcf54895",
   "metadata": {},
   "source": [
    "# VISUALIZE ROBOT'S POSITION\n",
    "* This cell will display the robot postion in the gazebo environment.robot's position is visualized using a black diamond shaped dots.the robot position is obtained by subscribing to /Odometry topic."
   ]
  },
  {
   "cell_type": "code",
   "execution_count": 3,
   "id": "7e427081",
   "metadata": {
    "ExecuteTime": {
     "end_time": "2022-02-13T17:42:16.750721Z",
     "start_time": "2022-02-13T17:42:16.321238Z"
    }
   },
   "outputs": [
    {
     "data": {
      "application/vnd.jupyter.widget-view+json": {
       "model_id": "6ea5b18f2c004a288878083727f53cf0",
       "version_major": 2,
       "version_minor": 0
      },
      "text/plain": [
       "Canvas(toolbar=Toolbar(toolitems=[('Home', 'Reset original view', 'home', 'home'), ('Back', 'Back to previous …"
      ]
     },
     "metadata": {},
     "output_type": "display_data"
    }
   ],
   "source": [
    "#plot for robot postion\n",
    "fig_robot_position, ax_robot_position = plot.subplots()\n",
    "ax_robot_position.set_xlim(( -15, 15))\n",
    "ax_robot_position.set_ylim((-15, 15))\n",
    "plot.xlabel(\"X axis\")\n",
    "plot.ylabel(\"Y axis\")\n",
    "plot.title(\"Robot moving positon\")\n",
    "\n",
    "line, = ax_robot_position.plot([], [], 'kd', markersize=\"6\")\n",
    "\n",
    "pos_x_data =  collections.deque(maxlen=300)\n",
    "pos_y_data = collections.deque(maxlen=300)\n",
    "\n",
    "\n",
    "def init():\n",
    "    line.set_data([], [])\n",
    "    return (line,)\n",
    "    \n",
    "def pos_animate(i):\n",
    "    line.set_data(pos_x_data, pos_y_data)\n",
    "    return (line)\n",
    "\n",
    "def odometry_cb(msg):\n",
    "    pos_y_data.append(msg.pose.pose.position.y)\n",
    "    pos_x_data.append(msg.pose.pose.position.x) \n",
    "      \n",
    "                  \n",
    "# Read robot odometry\n",
    "jr.subscribe('/odom', Odometry, odometry_cb)\n",
    "\n",
    "\n",
    "anim_robot_pos = animation.FuncAnimation(fig_robot_position, pos_animate, init_func=init, blit=True)\n",
    "plot.grid(b=True,color='r')\n"
   ]
  },
  {
   "cell_type": "markdown",
   "id": "055ddae1",
   "metadata": {},
   "source": [
    "# VELOCITY VISUALIZATION\n",
    "* Four line plots which will show the linear and angular velocity from cmd_vel message with respect to the actual angular and linear velocity from odom messages."
   ]
  },
  {
   "cell_type": "code",
   "execution_count": 4,
   "id": "cf9bdd68",
   "metadata": {
    "ExecuteTime": {
     "end_time": "2022-02-13T17:42:18.359267Z",
     "start_time": "2022-02-13T17:42:16.766911Z"
    }
   },
   "outputs": [
    {
     "data": {
      "application/vnd.jupyter.widget-view+json": {
       "model_id": "cb1b712422a24931867677f877f480c6",
       "version_major": 2,
       "version_minor": 0
      },
      "text/plain": [
       "Canvas(toolbar=Toolbar(toolitems=[('Home', 'Reset original view', 'home', 'home'), ('Back', 'Back to previous …"
      ]
     },
     "metadata": {},
     "output_type": "display_data"
    },
    {
     "data": {
      "application/vnd.jupyter.widget-view+json": {
       "model_id": "f8184d731c8e4d2c8219d1be5a9bdda7",
       "version_major": 2,
       "version_minor": 0
      },
      "text/plain": [
       "Canvas(toolbar=Toolbar(toolitems=[('Home', 'Reset original view', 'home', 'home'), ('Back', 'Back to previous …"
      ]
     },
     "metadata": {},
     "output_type": "display_data"
    },
    {
     "data": {
      "application/vnd.jupyter.widget-view+json": {
       "model_id": "95194e60d64c491f98e5d8ab571607a8",
       "version_major": 2,
       "version_minor": 0
      },
      "text/plain": [
       "Canvas(toolbar=Toolbar(toolitems=[('Home', 'Reset original view', 'home', 'home'), ('Back', 'Back to previous …"
      ]
     },
     "metadata": {},
     "output_type": "display_data"
    },
    {
     "data": {
      "application/vnd.jupyter.widget-view+json": {
       "model_id": "e5fa62d39ede48989ccf83d2af4f8328",
       "version_major": 2,
       "version_minor": 0
      },
      "text/plain": [
       "Canvas(toolbar=Toolbar(toolitems=[('Home', 'Reset original view', 'home', 'home'), ('Back', 'Back to previous …"
      ]
     },
     "metadata": {},
     "output_type": "display_data"
    }
   ],
   "source": [
    "fig_linear_cmd_velocity,ax_linear_cmd_velocity=plot.subplots()\n",
    "ax_linear_cmd_velocity.set_xlim(20, 0)\n",
    "ax_linear_cmd_velocity.set_ylim(-1, 6)\n",
    "\n",
    "fig_linear_actual_velocity,ax_linear_actual_velocity=plot.subplots()\n",
    "ax_linear_actual_velocity.set_xlim(20, 0)\n",
    "ax_linear_actual_velocity.set_ylim(-1, 6)\n",
    "\n",
    "fig_angular_cmd_velocity,ax_angular_cmd_velocity=plot.subplots()\n",
    "ax_angular_cmd_velocity.set_xlim(20, 0)\n",
    "ax_angular_cmd_velocity.set_ylim(-1, 6)\n",
    "\n",
    "fig_angular_actual_velocity,ax_angular_actual_velocity=plot.subplots()\n",
    "ax_angular_actual_velocity.set_xlim(20, 0)\n",
    "ax_angular_actual_velocity.set_ylim(-1, 6)\n",
    "\n",
    "\n",
    "    # linear velocity\n",
    "linear_cmd, = ax_linear_cmd_velocity.plot([], [], 'og', markersize='5')\n",
    "linear_actual, = ax_linear_actual_velocity.plot([], [], 'ok', markersize='5')\n",
    "    # angular velocity\n",
    "angular_cmd, = ax_angular_cmd_velocity.plot([], [], 'oc', markersize='5')\n",
    "angular_actual, = ax_angular_actual_velocity.plot([], [], 'om', markersize='5')\n",
    "\n",
    "time_vect = collections.deque(maxlen=400)\n",
    "vel_target = collections.deque(maxlen=400)\n",
    "vel_current = collections.deque(maxlen=400)\n",
    "angular_target = collections.deque(maxlen=400)\n",
    "angular_current = collections.deque(maxlen=400)\n",
    "\n",
    "def init_graph():\n",
    "    # linear velocity lines\n",
    "    linear_cmd.set_data([], [])\n",
    "    linear_actual.set_data([], [])    \n",
    "    # angular velocity lines\n",
    "    angular_cmd.set_data([], [])\n",
    "    angular_actual.set_data([], [])\n",
    "    ax_linear_cmd_velocity.set_ylim(-5,5)\n",
    "    ax_linear_actual_velocity.set_ylim(-5,5)\n",
    "    ax_angular_cmd_velocity.set_ylim(-5,5)\n",
    "    ax_angular_actual_velocity.set_ylim(-5,5)\n",
    "    \n",
    "    #return (line_vel_current, line_vel_target, ang_vel_current, ang_vel_target,)  \n",
    "    return (linear_cmd, angular_cmd, linear_actual, angular_actual)\n",
    "def animate_vel(i):   \n",
    "    ax_linear_cmd_velocity.legend()\n",
    "    ax_linear_cmd_velocity.set_title(\"cmd_vel linear velocity\")\n",
    "    ax_linear_cmd_velocity.set(xlabel='Time', ylabel='Linear velocity')\n",
    "    ax_linear_cmd_velocity.set_xlabel('time')\n",
    "    \n",
    "    ax_linear_actual_velocity.legend()\n",
    "    ax_linear_actual_velocity.set_title(\"odom linear velocity\")\n",
    "    ax_linear_actual_velocity.set(xlabel='Time', ylabel='Linear velocity')\n",
    "    ax_linear_actual_velocity.set_xlabel('time')\n",
    "    \n",
    "    ax_angular_cmd_velocity.legend()\n",
    "    ax_angular_cmd_velocity.set_title(\"cmd_vel angular velocity\")\n",
    "    ax_angular_cmd_velocity.set(xlabel='Time', ylabel='Angular velocity')\n",
    "    ax_angular_cmd_velocity.set_xlabel('time')\n",
    "    \n",
    "    ax_angular_actual_velocity.legend()\n",
    "    ax_angular_actual_velocity.set_title(\"odom angular velocity\")\n",
    "    ax_angular_actual_velocity.set(xlabel='Time', ylabel='Angular velocity')\n",
    "    ax_angular_actual_velocity.set_xlabel('time')\n",
    "    \n",
    "    # linear velocity lines\n",
    "    linear_cmd.set_data(time_vect, vel_target)   \n",
    "    linear_actual.set_data(time_vect, vel_current)  \n",
    "    # angular velocity lines\n",
    "    angular_cmd.set_data(time_vect, angular_target) \n",
    "    angular_actual.set_data(time_vect, angular_current) \n",
    "    \n",
    "    return (linear_cmd, angular_cmd, linear_actual, angular_actual)\n",
    "\n",
    "\n",
    "def vel_callback(msg_cmd):   \n",
    "    \n",
    "    time_vect.append(rospy.get_time())       \n",
    "    vel_target.append(msg_cmd.linear.x)  \n",
    "    angular_target.append(msg_cmd.angular.z)  \n",
    "    x_min = max([0, max(time_vect) - 20]) \n",
    "    x_max = max([100, max(time_vect)])\n",
    "    ax_linear_cmd_velocity.set_xlim( x_min, x_max )\n",
    "    ax_linear_actual_velocity.set_xlim( x_min, x_max )\n",
    "    ax_angular_cmd_velocity.set_xlim( x_min, x_max )\n",
    "    ax_angular_actual_velocity.set_xlim( x_min, x_max )\n",
    "    \n",
    "    \n",
    "def odom_speed_callback(msg_odom):       \n",
    "    vel_current.append(msg_odom.twist.twist.linear.x) \n",
    "    angular_current.append(-1.85*msg_odom.twist.twist.angular.z)\n",
    "\n",
    "# Read robot velocity(cmd_vel)\n",
    "jr.subscribe('cmd_vel', Twist, vel_callback)\n",
    "# Read robot odometry(odom)\n",
    "jr.subscribe('odom', Odometry, odom_speed_callback)\n",
    "\n",
    "# Animation function for velocity check\n",
    "\n",
    "anim_linear_cmd_velocity= animation.FuncAnimation(fig_linear_cmd_velocity, animate_vel, init_func=init_graph, frames=100, interval=20,\n",
    "blit=True)\n",
    "\n",
    "anim_angular_cmd_velocity= animation.FuncAnimation(fig_angular_cmd_velocity, animate_vel, init_func=init_graph, frames=100, interval=20,\n",
    "blit=True)\n",
    "anim_linear_actual_velocity= animation.FuncAnimation(fig_linear_actual_velocity, animate_vel, init_func=init_graph, frames=100, interval=20,\n",
    "blit=True)\n",
    "\n",
    "anim_angular_actual_velocity= animation.FuncAnimation(fig_angular_actual_velocity, animate_vel, init_func=init_graph, frames=100, interval=20,\n",
    "blit=True)\n"
   ]
  },
  {
   "cell_type": "markdown",
   "id": "2e77be1f",
   "metadata": {},
   "source": [
    "# HISTOGRAM:TIME TAKEN TO REACH A TARGET \n",
    "* Histogram plot in this block is used to show the time rached by the robot to reach a goal during random moving behaviour.\n",
    "* A subscriber to \"go_to_point/result\" from the action \"Planning\" is used to know the time period.and the same process is used for the bar plot also."
   ]
  },
  {
   "cell_type": "code",
   "execution_count": 5,
   "id": "a64e8ea4",
   "metadata": {
    "ExecuteTime": {
     "end_time": "2022-02-13T17:42:19.197923Z",
     "start_time": "2022-02-13T17:42:18.394069Z"
    }
   },
   "outputs": [
    {
     "data": {
      "application/vnd.jupyter.widget-view+json": {
       "model_id": "5dbca0d3cbd049f09bc8150de1980f79",
       "version_major": 2,
       "version_minor": 0
      },
      "text/plain": [
       "Canvas(toolbar=Toolbar(toolitems=[('Home', 'Reset original view', 'home', 'home'), ('Back', 'Back to previous …"
      ]
     },
     "metadata": {},
     "output_type": "display_data"
    }
   ],
   "source": [
    "fig_time_target,ax_time_target= plot.subplots() \n",
    "\n",
    "bins=15\n",
    "\n",
    "ax_time_target.set_title(\"Time-goal\")\n",
    "ax_time_target.set(xlabel=\"Time periods\", ylabel=\"Number of goal reached\")\n",
    "ax_time_target.hist([], bins)\n",
    "\n",
    "def time_targets(msg):\n",
    "  global reached_targets, random_moving, task_time, time_updation, ax_time_target, xlim\n",
    "  if random_moving==True:\n",
    "    reached_targets = reached_targets+1\n",
    "    \n",
    "\n",
    "    time_updation.append(rospy.Time.now().to_sec()-task_time.to_sec())\n",
    "    task_time=rospy.Time.now()\n",
    "    \n",
    "        \n",
    "    ax_time_target.hist(time_updation, bins, color='g')\n",
    "  \n",
    "\n",
    "jr.subscribe('/go_to_point/result',rt2_assignment1.msg.PlanningAction, time_targets)\n",
    "fig_time_target.show()"
   ]
  },
  {
   "cell_type": "markdown",
   "id": "d2a32eff",
   "metadata": {},
   "source": [
    "# BAR PLOT:REACHED TARGETS VS CANCELLED TARGETS\n",
    "* In this block, bar plot is used to show the number of reached targets and cancelled targets during the random movement behaviour .when the robot sucessfully reach a goal in its random movement behaviour, reached target will increase if the user cancels the random movement behaviuor,then the cancelled target will increase."
   ]
  },
  {
   "cell_type": "code",
   "execution_count": 6,
   "id": "50c5d136",
   "metadata": {
    "ExecuteTime": {
     "end_time": "2022-02-13T17:42:19.426067Z",
     "start_time": "2022-02-13T17:42:19.213870Z"
    }
   },
   "outputs": [
    {
     "data": {
      "application/vnd.jupyter.widget-view+json": {
       "model_id": "f39b78f526134a4aa2f10616578a1f4e",
       "version_major": 2,
       "version_minor": 0
      },
      "text/plain": [
       "Canvas(toolbar=Toolbar(toolitems=[('Home', 'Reset original view', 'home', 'home'), ('Back', 'Back to previous …"
      ]
     },
     "metadata": {},
     "output_type": "display_data"
    }
   ],
   "source": [
    "targets_fig=plot.figure()\n",
    "targets_ax=targets_fig.add_subplot(111)\n",
    "targets=[]\n",
    "langs = ['Reached targets', 'Cacelled targets']\n",
    "\n",
    "##x-axis indicates time and y axis indicates number of targets\n",
    "\n",
    "def animate_targets(i):\n",
    "    global reached_targets, cancelled_targets, targets\n",
    "    targets=[reached_targets, cancelled_targets]\n",
    "    targets_ax.bar(langs, targets, color='m')\n",
    "    targets_ax.set_title(\"Reached targets vs Cancelled targets\")\n",
    "    if reached_targets>=cancelled_targets:\n",
    "        targets_ax.set_ylim(0, reached_targets+10)\n",
    "    else:\n",
    "        targets_ax.set_ylim(0, cancelled_targets+10)\n",
    "   \n",
    "    \n",
    "\n",
    "targets_bar = animation.FuncAnimation(targets_fig, animate_targets, interval=100)"
   ]
  },
  {
   "cell_type": "markdown",
   "id": "6de3bce8",
   "metadata": {},
   "source": []
  }
 ],
 "metadata": {
  "kernelspec": {
   "display_name": "Python 3 (ipykernel)",
   "language": "python",
   "name": "python3"
  },
  "language_info": {
   "codemirror_mode": {
    "name": "ipython",
    "version": 3
   },
   "file_extension": ".py",
   "mimetype": "text/x-python",
   "name": "python",
   "nbconvert_exporter": "python",
   "pygments_lexer": "ipython3",
   "version": "3.8.10"
  },
  "toc": {
   "base_numbering": 1,
   "nav_menu": {},
   "number_sections": true,
   "sideBar": true,
   "skip_h1_title": false,
   "title_cell": "Table of Contents",
   "title_sidebar": "Contents",
   "toc_cell": false,
   "toc_position": {},
   "toc_section_display": true,
   "toc_window_display": false
  }
 },
 "nbformat": 4,
 "nbformat_minor": 5
}
